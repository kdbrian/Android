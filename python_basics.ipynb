{
  "nbformat": 4,
  "nbformat_minor": 0,
  "metadata": {
    "colab": {
      "provenance": [],
      "authorship_tag": "ABX9TyO2ig1zC5lrNMVrJWOOmRqh",
      "include_colab_link": true
    },
    "kernelspec": {
      "name": "python3",
      "display_name": "Python 3"
    },
    "language_info": {
      "name": "python"
    }
  },
  "cells": [
    {
      "cell_type": "markdown",
      "metadata": {
        "id": "view-in-github",
        "colab_type": "text"
      },
      "source": [
        "<a href=\"https://colab.research.google.com/github/La-Mello/Android/blob/master/python_basics.ipynb\" target=\"_parent\"><img src=\"https://colab.research.google.com/assets/colab-badge.svg\" alt=\"Open In Colab\"/></a>"
      ]
    },
    {
      "cell_type": "code",
      "execution_count": null,
      "metadata": {
        "colab": {
          "base_uri": "https://localhost:8080/"
        },
        "id": "1rxWeYbb6M3x",
        "outputId": "48555721-d7dc-4abb-af78-5c08daee183e"
      },
      "outputs": [
        {
          "output_type": "stream",
          "name": "stdout",
          "text": [
            "Hello world\n"
          ]
        }
      ],
      "source": [
        "print(\"Hello world\")"
      ]
    },
    {
      "cell_type": "code",
      "source": [
        "#variables\n",
        "x=10\n",
        "print(x)"
      ],
      "metadata": {
        "id": "ChARSK6f6flS",
        "colab": {
          "base_uri": "https://localhost:8080/"
        },
        "outputId": "fe058d9d-90aa-4e1e-f817-7ccd7d475efb"
      },
      "execution_count": null,
      "outputs": [
        {
          "output_type": "stream",
          "name": "stdout",
          "text": [
            "10\n"
          ]
        }
      ]
    },
    {
      "cell_type": "code",
      "source": [
        "#Data types\n",
        "x=10\n",
        "print(type(x))\n",
        "y=\"hello\"\n",
        "print(type(y))\n",
        "z=2.4\n",
        "print(type(z))\n",
        "l=[]\n",
        "print(type(l))"
      ],
      "metadata": {
        "colab": {
          "base_uri": "https://localhost:8080/"
        },
        "id": "PshbkwiyAZ9l",
        "outputId": "d582e318-729c-4485-c110-dbd8c6c539ac"
      },
      "execution_count": null,
      "outputs": [
        {
          "output_type": "stream",
          "name": "stdout",
          "text": [
            "<class 'int'>\n",
            "<class 'str'>\n",
            "<class 'float'>\n",
            "<class 'list'>\n"
          ]
        }
      ]
    },
    {
      "cell_type": "code",
      "source": [
        "#operators\n",
        "# assignment\n",
        "x=30\n",
        "y=20\n",
        "\n",
        "#relational & comparison\n",
        "print(x==y)\n",
        "print(x>y)\n",
        "print(x!=y)\n",
        "print(x<y)\n",
        "\n",
        "#logical\n",
        "if x>y and x!=y:\n",
        "  print(\"X is greater\")"
      ],
      "metadata": {
        "colab": {
          "base_uri": "https://localhost:8080/"
        },
        "id": "QG9c68C8AnoK",
        "outputId": "76d59e3e-9e83-4e1c-febc-86c5baa6a7e0"
      },
      "execution_count": null,
      "outputs": [
        {
          "output_type": "stream",
          "name": "stdout",
          "text": [
            "False\n",
            "True\n",
            "True\n",
            "False\n",
            "X is greater\n"
          ]
        }
      ]
    },
    {
      "cell_type": "code",
      "source": [
        "#control structures\n",
        "\n",
        "for i in range(10):\n",
        "  print(i,end=\" \")\n",
        "print()\n",
        "i=0\n",
        "while i<10:\n",
        "  print(i,end=\" \")\n",
        "  i+=1\n",
        "else:\n",
        "  print(\"loop finished\")\n",
        "\n",
        "if i==10:\n",
        "  print(\"i is 10\")\n",
        "else:\n",
        "  print(\"i < 10\")\n",
        "\n",
        "if i%2 != 0:\n",
        "  print(\"i is odd\")\n",
        "elif i%2==0:\n",
        "  print(\"i is even\")"
      ],
      "metadata": {
        "colab": {
          "base_uri": "https://localhost:8080/"
        },
        "id": "pOO8bIDrBLQ7",
        "outputId": "1ce3d309-cfdd-4f5e-f97c-ed6ef7c8cf65"
      },
      "execution_count": null,
      "outputs": [
        {
          "output_type": "stream",
          "name": "stdout",
          "text": [
            "0 1 2 3 4 5 6 7 8 9 \n",
            "0 1 2 3 4 5 6 7 8 9 loop finished\n",
            "i is 10\n",
            "i is even\n"
          ]
        }
      ]
    },
    {
      "cell_type": "code",
      "source": [
        "#functions\n",
        "\n",
        "#no parameters\n",
        "def sayHi():\n",
        "  print(\"Hiii\")\n",
        "sayHi()\n",
        "\n",
        "#parameters\n",
        "def say_Hi(name):\n",
        "  print(f'Hi, {name}')\n",
        "say_Hi(\"Brian\")\n",
        "\n",
        "#default parameters\n",
        "def say_Hi_deff(name=\"demo\"):\n",
        "  print(f'Hi, {name}')\n",
        "say_Hi_deff()\n",
        "\n",
        "#return values\n",
        "def pr_sum(x,y):\n",
        "  return x+y\n",
        "print(f'10+20 = {pr_sum(10,20)}')\n",
        "\n",
        "#args\n",
        "#a tuple of the passed arguments\n",
        "def hi(*args):\n",
        "  print(args)\n",
        "  print(f'Hi {args}')\n",
        "hi(\"Brian\")\n",
        "hi(10)\n",
        "\n",
        "#args\n",
        "#kwargs\n",
        "#a dictionary of the passed arguments\n",
        "\n",
        "def hi2(*args,**kwargs):\n",
        "  print(args)\n",
        "  print(kwargs)\n",
        "\n",
        "hi2(\"Brian\",10,20,30)"
      ],
      "metadata": {
        "colab": {
          "base_uri": "https://localhost:8080/"
        },
        "id": "MOJ3nxQWCX3T",
        "outputId": "f34c2036-f45e-497b-b017-18594f0b1388"
      },
      "execution_count": null,
      "outputs": [
        {
          "output_type": "stream",
          "name": "stdout",
          "text": [
            "Hiii\n",
            "Hi, Brian\n",
            "Hi, demo\n",
            "10+20 = 30\n",
            "('Brian',)\n",
            "Hi ('Brian',)\n",
            "(10,)\n",
            "Hi (10,)\n",
            "('Brian', {10, 20, 30})\n",
            "{}\n"
          ]
        }
      ]
    },
    {
      "cell_type": "code",
      "source": [
        "#scope\n",
        "\n",
        "x=10 #global scope-> accessed anywhere\n",
        "\n",
        "print(f'Outside px() {x}')\n",
        "\n",
        "def px():\n",
        "  print(f'Inside px() {x}')\n",
        "px()\n",
        "\n",
        "def loc():\n",
        "  _y=30#local variable only accessed in here\n",
        "  print(f'Inside loc() {_y}')\n",
        "loc()\n",
        "# print(_y) #results to an error"
      ],
      "metadata": {
        "colab": {
          "base_uri": "https://localhost:8080/"
        },
        "id": "v2uOteiIEF6V",
        "outputId": "a39f6460-5b73-4bc6-9276-f47dae3f8508"
      },
      "execution_count": null,
      "outputs": [
        {
          "output_type": "stream",
          "name": "stdout",
          "text": [
            "Outside px() 10\n",
            "Inside px() 10\n",
            "Inside loc() 30\n"
          ]
        }
      ]
    },
    {
      "cell_type": "code",
      "source": [
        "# list\n",
        "# unordered array of elements\n",
        "l1=[10,20,\"brian\"]\n",
        "print(l1)\n",
        "l1.append(\"kidiga\")\n",
        "print(l1)"
      ],
      "metadata": {
        "colab": {
          "base_uri": "https://localhost:8080/"
        },
        "id": "vCj2DtmWEvhR",
        "outputId": "1469f0ba-c638-4ffe-8a9a-48c6d820a62b"
      },
      "execution_count": null,
      "outputs": [
        {
          "output_type": "stream",
          "name": "stdout",
          "text": [
            "[10, 20, 'brian']\n",
            "[10, 20, 'brian', 'kidiga']\n"
          ]
        }
      ]
    },
    {
      "cell_type": "code",
      "source": [
        "# dictionaries\n",
        "# unordered key-value pairs\n",
        "d={\n",
        "    \"name\":\"brian\",\n",
        "   \"age\":20\n",
        "}\n",
        "\n",
        "print(d.keys())\n",
        "print(d.values())\n",
        "print(d)\n",
        "\n",
        "print(\"age\" in d.keys())\n",
        "print(\"gender\" in d.keys())"
      ],
      "metadata": {
        "colab": {
          "base_uri": "https://localhost:8080/"
        },
        "id": "0tUWDMiyFWrZ",
        "outputId": "3896bede-f297-4059-e95b-0cc83a2e8078"
      },
      "execution_count": 2,
      "outputs": [
        {
          "output_type": "stream",
          "name": "stdout",
          "text": [
            "dict_keys(['name', 'age'])\n",
            "dict_values(['brian', 20])\n",
            "{'name': 'brian', 'age': 20}\n",
            "True\n",
            "False\n"
          ]
        }
      ]
    },
    {
      "cell_type": "code",
      "source": [
        "# sets collection of unique items\n",
        "nums={1,2,3,4,5,6,1}\n",
        "print(nums)\n",
        "nums.add(7)\n",
        "nums.add(8)\n",
        "print(nums)\n",
        "nums.remove(2)\n",
        "print(nums)\n"
      ],
      "metadata": {
        "colab": {
          "base_uri": "https://localhost:8080/"
        },
        "id": "yyQUua9HF0hb",
        "outputId": "1ddbde98-606f-4383-9e73-f43ed8707458"
      },
      "execution_count": 1,
      "outputs": [
        {
          "output_type": "stream",
          "name": "stdout",
          "text": [
            "{1, 2, 3, 4, 5, 6}\n",
            "{1, 2, 3, 4, 5, 6, 7, 8}\n",
            "{1, 3, 4, 5, 6, 7, 8}\n"
          ]
        }
      ]
    },
    {
      "cell_type": "code",
      "source": [],
      "metadata": {
        "id": "FaMqILoRCfBr"
      },
      "execution_count": null,
      "outputs": []
    }
  ]
}